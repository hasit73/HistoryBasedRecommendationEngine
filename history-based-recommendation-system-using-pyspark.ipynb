{
 "cells": [
  {
   "cell_type": "markdown",
   "id": "a5bb31a6-832f-45b1-80ed-660eb1abd884",
   "metadata": {},
   "source": [
    "## History Based Recommendation Engine Using Pyspark and Pywebio\n",
    "\n",
    "#### Major Tools used \n",
    "    1) Pyspark = for faster data and text preprocessing and provides various libraries for data transformation\n",
    "    \n",
    "    2) Pywebio = is used to build interactive UI plateform for our ML model \n",
    "    \n",
    "    \n",
    "#### benefits of using pyspark\n",
    " - parallel processing\n",
    " \n",
    " - high speed for data preprocessing\n",
    " \n",
    " - provides large functionalites for data transformation\n",
    " \n"
   ]
  },
  {
   "cell_type": "code",
   "execution_count": 1,
   "id": "439778e8-c133-46f0-883f-e888c6a8ca2e",
   "metadata": {},
   "outputs": [],
   "source": [
    "import findspark\n",
    "\n",
    "## initiate spark setup\n",
    "findspark.init()"
   ]
  },
  {
   "cell_type": "markdown",
   "id": "8140c432-e0d1-44cf-a825-304213efa034",
   "metadata": {},
   "source": [
    "#### Import All Required Libraries"
   ]
  },
  {
   "cell_type": "code",
   "execution_count": 2,
   "id": "5044750e-aaf6-4bc6-8713-6fa024110b05",
   "metadata": {},
   "outputs": [],
   "source": [
    "from pyspark.sql import SparkSession\n",
    "from pyspark.ml.feature import Word2Vec,Tokenizer,HashingTF,IDF,Normalizer\n",
    "from pyspark.ml.linalg import VectorUDT\n",
    "from pyspark.sql import functions as F\n",
    "from pyspark.ml.pipeline import Pipeline\n",
    "from pyspark.sql import functions as  F\n",
    "from pyspark.sql.types import *\n",
    "import pandas as pd\n",
    "import sqlite3\n",
    "import numpy as np\n",
    "from pywebio.input import *\n",
    "from pywebio.output import *"
   ]
  },
  {
   "cell_type": "code",
   "execution_count": 3,
   "id": "cc1786d8-2cfd-4f5f-ab9f-57eb50cebbda",
   "metadata": {},
   "outputs": [
    {
     "data": {
      "text/html": [
       "\n",
       "            <div>\n",
       "                <p><b>SparkSession - in-memory</b></p>\n",
       "                \n",
       "        <div>\n",
       "            <p><b>SparkContext</b></p>\n",
       "\n",
       "            <p><a href=\"http://192.168.1.8:4040\">Spark UI</a></p>\n",
       "\n",
       "            <dl>\n",
       "              <dt>Version</dt>\n",
       "                <dd><code>v2.4.7</code></dd>\n",
       "              <dt>Master</dt>\n",
       "                <dd><code>local[*]</code></dd>\n",
       "              <dt>AppName</dt>\n",
       "                <dd><code>History-Based_Recommendation-Engine</code></dd>\n",
       "            </dl>\n",
       "        </div>\n",
       "        \n",
       "            </div>\n",
       "        "
      ],
      "text/plain": [
       "<pyspark.sql.session.SparkSession at 0x259d8552b88>"
      ]
     },
     "execution_count": 3,
     "metadata": {},
     "output_type": "execute_result"
    }
   ],
   "source": [
    "sc = SparkSession.builder.appName(\"History-Based_Recommendation-Engine\").getOrCreate()\n",
    "sc"
   ]
  },
  {
   "cell_type": "code",
   "execution_count": 4,
   "id": "f08c7cbe-0a07-421e-85c9-a06b835f7f64",
   "metadata": {},
   "outputs": [],
   "source": [
    "data_path = \"db.sqlite3\"\n",
    "con = sqlite3.connect(data_path)"
   ]
  },
  {
   "cell_type": "code",
   "execution_count": 5,
   "id": "56b9fb31-61f0-44eb-ae0c-40c4a848c1f3",
   "metadata": {
    "scrolled": true,
    "tags": []
   },
   "outputs": [
    {
     "data": {
      "text/html": [
       "<div>\n",
       "<style scoped>\n",
       "    .dataframe tbody tr th:only-of-type {\n",
       "        vertical-align: middle;\n",
       "    }\n",
       "\n",
       "    .dataframe tbody tr th {\n",
       "        vertical-align: top;\n",
       "    }\n",
       "\n",
       "    .dataframe thead th {\n",
       "        text-align: right;\n",
       "    }\n",
       "</style>\n",
       "<table border=\"1\" class=\"dataframe\">\n",
       "  <thead>\n",
       "    <tr style=\"text-align: right;\">\n",
       "      <th></th>\n",
       "      <th>name</th>\n",
       "    </tr>\n",
       "  </thead>\n",
       "  <tbody>\n",
       "    <tr>\n",
       "      <th>0</th>\n",
       "      <td>django_migrations</td>\n",
       "    </tr>\n",
       "    <tr>\n",
       "      <th>1</th>\n",
       "      <td>sqlite_sequence</td>\n",
       "    </tr>\n",
       "    <tr>\n",
       "      <th>2</th>\n",
       "      <td>auth_group_permissions</td>\n",
       "    </tr>\n",
       "    <tr>\n",
       "      <th>3</th>\n",
       "      <td>auth_user_groups</td>\n",
       "    </tr>\n",
       "    <tr>\n",
       "      <th>4</th>\n",
       "      <td>auth_user_user_permissions</td>\n",
       "    </tr>\n",
       "    <tr>\n",
       "      <th>5</th>\n",
       "      <td>django_admin_log</td>\n",
       "    </tr>\n",
       "    <tr>\n",
       "      <th>6</th>\n",
       "      <td>django_content_type</td>\n",
       "    </tr>\n",
       "    <tr>\n",
       "      <th>7</th>\n",
       "      <td>auth_permission</td>\n",
       "    </tr>\n",
       "    <tr>\n",
       "      <th>8</th>\n",
       "      <td>auth_group</td>\n",
       "    </tr>\n",
       "    <tr>\n",
       "      <th>9</th>\n",
       "      <td>auth_user</td>\n",
       "    </tr>\n",
       "    <tr>\n",
       "      <th>10</th>\n",
       "      <td>django_session</td>\n",
       "    </tr>\n",
       "    <tr>\n",
       "      <th>11</th>\n",
       "      <td>shop_usersquery</td>\n",
       "    </tr>\n",
       "    <tr>\n",
       "      <th>12</th>\n",
       "      <td>shop_product_review</td>\n",
       "    </tr>\n",
       "    <tr>\n",
       "      <th>13</th>\n",
       "      <td>shop_product_detail</td>\n",
       "    </tr>\n",
       "    <tr>\n",
       "      <th>14</th>\n",
       "      <td>Authentication_profile</td>\n",
       "    </tr>\n",
       "    <tr>\n",
       "      <th>15</th>\n",
       "      <td>shop_order_detail</td>\n",
       "    </tr>\n",
       "    <tr>\n",
       "      <th>16</th>\n",
       "      <td>shop_rating_detail</td>\n",
       "    </tr>\n",
       "  </tbody>\n",
       "</table>\n",
       "</div>"
      ],
      "text/plain": [
       "                          name\n",
       "0            django_migrations\n",
       "1              sqlite_sequence\n",
       "2       auth_group_permissions\n",
       "3             auth_user_groups\n",
       "4   auth_user_user_permissions\n",
       "5             django_admin_log\n",
       "6          django_content_type\n",
       "7              auth_permission\n",
       "8                   auth_group\n",
       "9                    auth_user\n",
       "10              django_session\n",
       "11             shop_usersquery\n",
       "12         shop_product_review\n",
       "13         shop_product_detail\n",
       "14      Authentication_profile\n",
       "15           shop_order_detail\n",
       "16          shop_rating_detail"
      ]
     },
     "execution_count": 5,
     "metadata": {},
     "output_type": "execute_result"
    }
   ],
   "source": [
    "## get all table names\n",
    "pd.read_sql_query('SELECT name from sqlite_master where type= \"table\";', con)"
   ]
  },
  {
   "cell_type": "code",
   "execution_count": 6,
   "id": "5b1e5cdf-5b5e-43b3-aaa3-8d20923f03b9",
   "metadata": {},
   "outputs": [],
   "source": [
    "data = pd.read_sql_query(\"select * from 'shop_product_detail';\",con)"
   ]
  },
  {
   "cell_type": "code",
   "execution_count": 7,
   "id": "416042ef-d6c6-41f4-af69-78601ba2f9bf",
   "metadata": {},
   "outputs": [],
   "source": [
    "## create spark dataframe from pandas dataframe\n",
    "sdf = sc.createDataFrame(data[[\"product_id\",\"product_name\",\"description\",\"brand\"]])"
   ]
  },
  {
   "cell_type": "code",
   "execution_count": 8,
   "id": "11300390-d095-4556-b035-bb9305736c28",
   "metadata": {},
   "outputs": [
    {
     "data": {
      "text/plain": [
       "DataFrame[product_id: bigint, product_name: string, description: string, brand: string]"
      ]
     },
     "execution_count": 8,
     "metadata": {},
     "output_type": "execute_result"
    }
   ],
   "source": [
    "sdf.cache()"
   ]
  },
  {
   "cell_type": "markdown",
   "id": "18c7ba24-6172-425f-aeb8-3f3599344373",
   "metadata": {},
   "source": [
    "### Data preprocessing and preparation\n",
    "    - text preprocessing\n",
    "    - Tokenization\n",
    "    - TF-IDF transformation\n",
    "    - Normalization"
   ]
  },
  {
   "cell_type": "code",
   "execution_count": 9,
   "id": "bcbd7c57-8867-4ac2-8d84-90821777d02e",
   "metadata": {},
   "outputs": [],
   "source": [
    "## convert product name text into lower case\n",
    "sdf= sdf.withColumn(\"product_name\",F.lower(F.col(\"product_name\")))"
   ]
  },
  {
   "cell_type": "code",
   "execution_count": 10,
   "id": "18233028-0255-4739-99b4-dc9e45a67d78",
   "metadata": {},
   "outputs": [],
   "source": [
    "## text transformation\n",
    "tokenizer = Tokenizer(inputCol=\"product_name\",outputCol=\"text_tokens\")\n",
    "sdf = tokenizer.transform(sdf)\n",
    "hashtf = HashingTF(inputCol=\"text_tokens\",outputCol=\"text_tf\")\n",
    "sdf = hashtf.transform(sdf)\n",
    "idf_md = IDF(inputCol=\"text_tf\",outputCol=\"text_idf\")\n",
    "idfModel = idf_md.fit(sdf)\n",
    "sdf = idfModel.transform(sdf)\n",
    "normalizer = Normalizer(inputCol=\"text_tf\",outputCol=\"text_norm\")\n",
    "sdf = normalizer.transform(sdf)"
   ]
  },
  {
   "cell_type": "code",
   "execution_count": 11,
   "id": "8746186d-42c8-4a95-b257-ba05ea2f94fe",
   "metadata": {},
   "outputs": [],
   "source": [
    "def transformData(d):\n",
    "    \"\"\" transform product name text\n",
    "    into set of vectors by applying tokenization,tfidf transformation,\n",
    "    normalization\"\"\"\n",
    "    d = tokenizer.transform(d)\n",
    "    d = hashtf.transform(d)\n",
    "    d = idfModel.transform(d)\n",
    "    d = normalizer.transform(d)\n",
    "    return d"
   ]
  },
  {
   "cell_type": "code",
   "execution_count": 12,
   "id": "379cece8-bd4f-4d9d-8802-ca13b0cd06ae",
   "metadata": {},
   "outputs": [],
   "source": [
    "def createData(s):\n",
    "    \"\"\" create spark dataframe from \n",
    "    the input text \"\"\"\n",
    "    t = pd.DataFrame([s],columns=[\"product_name\"])\n",
    "    t = sc.createDataFrame(t)\n",
    "    return t"
   ]
  },
  {
   "cell_type": "code",
   "execution_count": 13,
   "id": "1375cb94-2bef-4fb0-829e-4c31c0aa3ef3",
   "metadata": {},
   "outputs": [],
   "source": [
    "def getSimilar(data,s1):\n",
    "    \"\"\" compute the similarity score of input keyword with all products \"\"\"\n",
    "    t = transformData(createData(s1)).select(\"text_norm\").collect()[0][\"text_norm\"]\n",
    "    s_udf = F.udf(lambda x: float(x.dot(t)),DoubleType())\n",
    "    new = data.withColumn(\"similarity_score\",s_udf(\"text_norm\")).orderBy(\"similarity_score\",ascending=False)\n",
    "    return new.head(10)"
   ]
  },
  {
   "cell_type": "markdown",
   "id": "aced2038-1734-453f-ad70-7fc339b08bdf",
   "metadata": {},
   "source": [
    "### Build Web UI for our history based rec-engine using pywebio"
   ]
  },
  {
   "cell_type": "code",
   "execution_count": 14,
   "id": "9af3ae0a-3b00-48c2-8c81-b9fc6bbf5a17",
   "metadata": {},
   "outputs": [],
   "source": [
    "\n",
    "## declarations\n",
    "cols = [\"product_id\",\"product_name\",\"brand\",\"similarity\"]\n",
    "\n",
    "# clear screen \n",
    "def homeApp():\n",
    "    clear()\n",
    "\n",
    "    put_markdown(\"## Search History Based Recommedation Engine\")\n",
    "    style(put_text(\"Note : User entered keywords are conisder as user search history\"),\"color:blue\")\n",
    "    put_link(\"Github Code Here\",url=\"https://github.com/hasit73/HistoryBasedRecommendationEngine\",new_window=True)\n",
    "\n",
    "    input_grp = input_group(inputs=[\n",
    "\n",
    "        input(\"Higher priority keyword \",type=\"text\",name=\"high\",required=True),\n",
    "        input(\"Medium priority keyword \",type=\"text\",name=\"medium\",required=True),\n",
    "        input(\"Low priority keyword \",type=\"text\",name=\"low\",required=True),\n",
    "\n",
    "    ])\n",
    "    h,m,l = input_grp[\"high\"],input_grp[\"medium\"],input_grp[\"low\"]\n",
    "\n",
    "    clear()\n",
    "    style(put_text(\"Wait For While ...\"),\"color:blue\")    \n",
    "    \n",
    "    with put_loading():\n",
    "        prods = getSimilar(sdf,h)[:5]+getSimilar(sdf,m)[:3]+getSimilar(sdf,l)[:2]\n",
    "        clear()\n",
    "        style(put_markdown(f\"### Results for Search history : {h} , {m} , {l}\"),\"color:brown\")\n",
    "        style(put_markdown(\"## Recommended Products\"),\"color:green\")\n",
    "        data = [[p[\"product_id\"],p[\"product_name\"],p[\"brand\"],p[\"similarity_score\"]] for p in prods]\n",
    "        put_table(data,header=cols)\n",
    "        put_buttons([\"Back\"],onclick=[homeApp])\n"
   ]
  },
  {
   "cell_type": "code",
   "execution_count": 15,
   "id": "b1e3a6d9-ad5b-4cc3-ba9a-1502cbdbf21b",
   "metadata": {},
   "outputs": [],
   "source": [
    "homeApp()"
   ]
  },
  {
   "cell_type": "markdown",
   "id": "5dc0b376-20a3-4abe-a71c-ebc6c0370efd",
   "metadata": {
    "tags": []
   },
   "source": [
    "#### What are the limitations of this recommendation engine\n",
    "\n",
    "    1) Right now it takes time to recommended products for input keywords because pyspark follows lazy approach so that many computations are done at run time\n",
    "    \n",
    "    2) In few cases engine recommend products which are not suitable with input keywords it may be because of unbiased distribution of products and not all types of products are included in db"
   ]
  },
  {
   "cell_type": "code",
   "execution_count": 18,
   "id": "bcae7a59-0a70-405f-8c73-2829564605e5",
   "metadata": {},
   "outputs": [],
   "source": []
  },
  {
   "cell_type": "code",
   "execution_count": null,
   "id": "e9c4eebd-2fe9-4521-9328-254904c93970",
   "metadata": {},
   "outputs": [],
   "source": []
  }
 ],
 "metadata": {
  "kernelspec": {
   "display_name": "Python 3",
   "language": "python",
   "name": "python3"
  },
  "language_info": {
   "codemirror_mode": {
    "name": "ipython",
    "version": 3
   },
   "file_extension": ".py",
   "mimetype": "text/x-python",
   "name": "python",
   "nbconvert_exporter": "python",
   "pygments_lexer": "ipython3",
   "version": "3.7.10"
  }
 },
 "nbformat": 4,
 "nbformat_minor": 5
}
